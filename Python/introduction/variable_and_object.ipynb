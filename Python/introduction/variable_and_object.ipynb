{
 "cells": [
  {
   "cell_type": "code",
   "execution_count": null,
   "metadata": {},
   "outputs": [],
   "source": [
    "#Criação de variáveis no python\n",
    "x = 1\n",
    "print(x + \"X é um inteiro\")\n",
    "\n",
    "y = 2.8\n",
    "print(y + \"Y é um float\")\n",
    "\n",
    "z = 1j\n",
    "print(z + \"Z é um número complexo\")\n",
    "\n",
    "a = \"Hello, World!\"\n",
    "print(a + \"A é uma string\")\n",
    "\n",
    "b = [\"apple\", \"banana\", \"cherry\"]\n",
    "print(b + \"B é uma lista\")\n",
    "\n",
    "c = (\"apple\", \"banana\", \"cherry\")\n",
    "print(c + \"C é uma tupla\")  \n",
    "\n",
    "print(\"Testo e duas variáveis: \", x, y) #Concatenação de variáveis\n",
    "\n",
    "#Verificações de tipo em python\n",
    "if(type(x) == int):\n",
    "    print(\"X é um inteiro\")"
   ]
  },
  {
   "cell_type": "code",
   "execution_count": null,
   "metadata": {},
   "outputs": [],
   "source": [
    "#Entrada de valores\n",
    "variable = input(\"Digite um valor: \") #A variável será do tipo string por padrão\n",
    "\n",
    "#Casting em Python\n",
    "p = int(y) #Convertendo double/ponto flutuante em inteiro\n",
    "convert_to_string = str(x) #Convertendo inteiro em string\n",
    "x_to_float = float(x) #Convertendo inteiro em float\n",
    "\n",
    "''' Aqui começa um comentário de múltiplas linhas\n",
    "    E termina aqui\n",
    "'''"
   ]
  },
  {
   "cell_type": "markdown",
   "metadata": {},
   "source": []
  },
  {
   "cell_type": "code",
   "execution_count": null,
   "metadata": {},
   "outputs": [],
   "source": []
  }
 ],
 "metadata": {
  "kernelspec": {
   "display_name": "Python 3",
   "language": "python",
   "name": "python3"
  },
  "language_info": {
   "codemirror_mode": {
    "name": "ipython",
    "version": 3
   },
   "file_extension": ".py",
   "mimetype": "text/x-python",
   "name": "python",
   "nbconvert_exporter": "python",
   "pygments_lexer": "ipython3",
   "version": "3.13.1"
  }
 },
 "nbformat": 4,
 "nbformat_minor": 2
}
