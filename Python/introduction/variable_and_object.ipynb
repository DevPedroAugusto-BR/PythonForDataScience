{
 "cells": [
  {
   "cell_type": "code",
   "execution_count": 2,
   "metadata": {},
   "outputs": [
    {
     "name": "stdout",
     "output_type": "stream",
     "text": [
      "X é um inteiro 1\n",
      "Y é um float 2.8\n",
      "Z é um número complexo 1j\n",
      "A é uma string Hello, World!\n",
      "B é uma lista ['apple', 'banana', 'cherry']\n",
      "C é uma tupla ('apple', 'banana', 'cherry')\n",
      "Testo e duas variáveis:  1 2.8\n",
      "X é um inteiro\n"
     ]
    }
   ],
   "source": [
    "#Criação de variáveis no python\n",
    "x = 1\n",
    "print(\"X é um inteiro\", x)\n",
    "\n",
    "y = 2.8\n",
    "print(\"Y é um float\",  y )\n",
    "\n",
    "z = 1j\n",
    "print(\"Z é um número complexo\", z)\n",
    "\n",
    "a = \"Hello, World!\"\n",
    "print(\"A é uma string\", a)\n",
    "\n",
    "b = [\"apple\", \"banana\", \"cherry\"]\n",
    "print(\"B é uma lista\", b)\n",
    "#Listas são mutáveis, ou seja, podem ser alteradas. Possuem também tamanho variável.\n",
    "\n",
    "c = (\"apple\", \"banana\", \"cherry\")\n",
    "print(\"C é uma tupla\", c)  \n",
    "#Tuplas são imutáveis, ou seja, não podem ser alteradas. Possuem tamanho fixo.\n",
    "\n",
    "print(\"Testo e duas variáveis: \", x, y) #Concatenação de variáveis\n",
    "\n",
    "#Verificações de tipo em python\n",
    "if(type(x) == int):\n",
    "    print(\"X é um inteiro\")"
   ]
  },
  {
   "cell_type": "code",
   "execution_count": null,
   "metadata": {},
   "outputs": [],
   "source": [
    "#Entrada de valores\n",
    "variable = input(\"Digite um valor: \") #A variável será do tipo string por padrão\n",
    "\n",
    "#Casting em Python\n",
    "p = int(y) #Convertendo double/ponto flutuante em inteiro\n",
    "convert_to_string = str(x) #Convertendo inteiro em string\n",
    "x_to_float = float(x) #Convertendo inteiro em float\n",
    "\n",
    "''' Aqui começa um comentário de múltiplas linhas\n",
    "    E termina aqui\n",
    "'''"
   ]
  },
  {
   "cell_type": "markdown",
   "metadata": {},
   "source": []
  },
  {
   "cell_type": "code",
   "execution_count": null,
   "metadata": {},
   "outputs": [],
   "source": []
  }
 ],
 "metadata": {
  "kernelspec": {
   "display_name": "Python 3",
   "language": "python",
   "name": "python3"
  },
  "language_info": {
   "codemirror_mode": {
    "name": "ipython",
    "version": 3
   },
   "file_extension": ".py",
   "mimetype": "text/x-python",
   "name": "python",
   "nbconvert_exporter": "python",
   "pygments_lexer": "ipython3",
   "version": "3.13.1"
  }
 },
 "nbformat": 4,
 "nbformat_minor": 2
}
