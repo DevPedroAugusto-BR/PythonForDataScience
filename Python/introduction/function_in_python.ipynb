{
 "cells": [
  {
   "cell_type": "markdown",
   "metadata": {},
   "source": [
    "# Funções em Python\n",
    "\n",
    "Uma **função** é um bloco de código reutilizável que executa uma tarefa específica. Em Python, as funções são definidas usando a palavra-chave `def`.\n",
    "\n",
    "## Criando e Chamando uma Função\n",
    "\n",
    "```python\n",
    "def saudacao(nome):\n",
    "    \"\"\"Esta função recebe um nome e retorna uma saudação.\"\"\"\n",
    "    return f\"Olá, {nome}!\"\n",
    "\n",
    "# Chamando a função\n",
    "mensagem = saudacao(\"Carlos\")\n",
    "print(mensagem)\n"
   ]
  },
  {
   "cell_type": "code",
   "execution_count": 1,
   "metadata": {},
   "outputs": [
    {
     "name": "stdout",
     "output_type": "stream",
     "text": [
      "O campeão paulista de 2025 é o Corinthians\n"
     ]
    }
   ],
   "source": [
    "def campeao(nome = \"Corinthians\"):\n",
    "    print(f\"O campeão paulista de 2025 é o {nome}\")\n",
    "\n",
    "\n",
    "campeao()"
   ]
  },
  {
   "cell_type": "code",
   "execution_count": null,
   "metadata": {},
   "outputs": [],
   "source": []
  }
 ],
 "metadata": {
  "kernelspec": {
   "display_name": "Python 3",
   "language": "python",
   "name": "python3"
  },
  "language_info": {
   "codemirror_mode": {
    "name": "ipython",
    "version": 3
   },
   "file_extension": ".py",
   "mimetype": "text/x-python",
   "name": "python",
   "nbconvert_exporter": "python",
   "pygments_lexer": "ipython3",
   "version": "3.13.1"
  }
 },
 "nbformat": 4,
 "nbformat_minor": 2
}
