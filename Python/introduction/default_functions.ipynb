{
 "cells": [
  {
   "cell_type": "code",
   "execution_count": null,
   "metadata": {},
   "outputs": [],
   "source": [
    "'''\n",
    "Sem o uso do import\n",
    "abs, max, min, round, sum\n",
    "\n",
    "Native modules\n",
    "from statistics import mean, median, mode, stdev, variance\n",
    "'''"
   ]
  },
  {
   "cell_type": "markdown",
   "metadata": {},
   "source": [
    "# Funções Nativas e Módulos Nativos em Python\n",
    "\n",
    "Python possui diversas funções nativas (built-in), que podem ser usadas sem necessidade de importação, e também módulos embutidos na biblioteca padrão.\n",
    "\n",
    "## **Funções Nativas (Sem Importação)**\n",
    "\n",
    "As seguintes funções podem ser usadas diretamente:\n",
    "\n",
    "- **`abs(x)`** → Retorna o valor absoluto de `x`\n",
    "- **`max(iterável, ...)`** → Retorna o maior valor de um conjunto de números\n",
    "- **`min(iterável, ...)`** → Retorna o menor valor de um conjunto de números\n",
    "- **`round(x, n)`** → Arredonda um número `x` para `n` casas decimais (padrão `n=0`)\n",
    "- **`sum(iterável)`** → Retorna a soma dos elementos de um iterável\n",
    "\n",
    "### **Exemplo de Uso**\n",
    "```python\n",
    "print(abs(-10))         # 10\n",
    "print(max(3, 7, 2, 8))  # 8\n",
    "print(min(3, 7, 2, 8))  # 2\n",
    "print(round(3.14159, 2)) # 3.14\n",
    "print(sum([1, 2, 3, 4])) # 10\n"
   ]
  },
  {
   "cell_type": "code",
   "execution_count": null,
   "metadata": {},
   "outputs": [],
   "source": [
    "### **Exemplo em Python**\n",
    "# Funções nativas sem importação\n",
    "print(\"Valor absoluto de -15:\", abs(-15))\n",
    "print(\"Maior número:\", max(5, 12, 8))\n",
    "print(\"Menor número:\", min(5, 12, 8))\n",
    "print(\"Arredondando 7.856 para 2 casas:\", round(7.856, 2))\n",
    "print(\"Soma dos números:\", sum([1, 3, 5, 7, 9]))\n",
    "\n",
    "# Uso do módulo statistics\n",
    "from statistics import mean, median, mode, stdev, variance\n",
    "\n",
    "valores = [4, 8, 6, 8, 9, 6, 8]\n",
    "\n",
    "print(\"\\nMédia:\", mean(valores))\n",
    "print(\"Mediana:\", median(valores))\n",
    "print(\"Moda:\", mode(valores))\n",
    "print(\"Desvio padrão:\", stdev(valores))\n",
    "print(\"Variância:\", variance(valores))\n"
   ]
  }
 ],
 "metadata": {
  "language_info": {
   "name": "python"
  }
 },
 "nbformat": 4,
 "nbformat_minor": 2
}
