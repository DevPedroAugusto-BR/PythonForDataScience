{
 "cells": [
  {
   "cell_type": "markdown",
   "metadata": {},
   "source": [
    "# Introdução ao NumPy e ao Pandas\n",
    "\n",
    "NumPy é uma biblioteca fundamental para computação numérica em Python. Ela fornece suporte para arrays multidimensionais e funções matemáticas eficientes.\n",
    "\n",
    "## Criando um Array NumPy\n",
    "\n",
    "```python\n",
    "import numpy as np\n",
    "\n",
    "# Criando um array unidimensional\n",
    "a = np.array([12, 32, 42])\n",
    "\n",
    "# Exibindo o array e seu tipo de dado\n",
    "print(a)\n",
    "print(a.dtype)\n",
    "\n",
    "Pandas é uma biblioteca para manipulação e análise de dados tabulares. Ele trabalha principalmente com dois tipos de objetos: **Series** e **DataFrame**.\n",
    "\n",
    "### Criando um DataFrame a partir de um CSV\n",
    "\n",
    "import pandas as pd\n",
    "\n",
    "df = pd.read_csv('meuPaudeChapeu.csv')"
   ]
  },
  {
   "cell_type": "code",
   "execution_count": 4,
   "metadata": {},
   "outputs": [
    {
     "name": "stdout",
     "output_type": "stream",
     "text": [
      "a type:  int64\n",
      "df types:  0    int64\n",
      "dtype: object\n"
     ]
    }
   ],
   "source": [
    "import numpy as np\n",
    "import pandas as pd \n",
    "\n",
    "a = np.array([1,2,3,4,5])\n",
    "print(\"a type: \", a.dtype)\n",
    "\n",
    "df = pd.DataFrame(a)\n",
    "print(\"df types: \", df.dtypes)    "
   ]
  },
  {
   "cell_type": "code",
   "execution_count": null,
   "metadata": {},
   "outputs": [],
   "source": []
  }
 ],
 "metadata": {
  "kernelspec": {
   "display_name": "Python 3",
   "language": "python",
   "name": "python3"
  },
  "language_info": {
   "codemirror_mode": {
    "name": "ipython",
    "version": 3
   },
   "file_extension": ".py",
   "mimetype": "text/x-python",
   "name": "python",
   "nbconvert_exporter": "python",
   "pygments_lexer": "ipython3",
   "version": "3.13.1"
  }
 },
 "nbformat": 4,
 "nbformat_minor": 2
}
