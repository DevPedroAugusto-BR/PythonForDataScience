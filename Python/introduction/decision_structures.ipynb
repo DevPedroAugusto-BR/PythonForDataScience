{
 "cells": [
  {
   "cell_type": "code",
   "execution_count": null,
   "metadata": {},
   "outputs": [],
   "source": [
    "#Estudo sobre as estruturas de decisões em python\n",
    "nome = input(\"Digite o nome do aluno: \")\n",
    "nota = float(input(\"Digite a nota do aluno: \"))\n",
    "\n",
    "if(nota >= 7):\n",
    "    print(\"O aluno\", nome, \"foi aprovado com a nota\", nota)\n",
    "else:\n",
    "    print(\"O aluno\", nome, \"foi reprovado com a nota\", nota)\n"
   ]
  }
 ],
 "metadata": {
  "language_info": {
   "name": "python"
  }
 },
 "nbformat": 4,
 "nbformat_minor": 2
}
