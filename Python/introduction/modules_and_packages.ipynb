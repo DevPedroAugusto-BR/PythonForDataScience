{
 "cells": [
  {
   "cell_type": "markdown",
   "metadata": {},
   "source": [
    "# Módulos e Pacotes no Python\n",
    "\n",
    "Em Python, um **módulo** é um arquivo contendo código Python que pode ser importado e reutilizado em outros arquivos. Já um **pacote** é uma coleção de módulos organizados em diretórios.\n",
    "\n",
    "## Criando e Importando Módulos\n",
    "\n",
    "Para criar um módulo, basta escrever um arquivo `.py` contendo funções ou variáveis.  \n",
    "Exemplo: Criando um módulo chamado `meu_modulo.py`.\n",
    "\n",
    "```python\n",
    "# meu_modulo.py\n",
    "def saudacao(nome):\n",
    "    return f\"Olá, {nome}!\"\n",
    "\n",
    "PI = 3.14159\n"
   ]
  },
  {
   "cell_type": "markdown",
   "metadata": {},
   "source": [
    "meu_pacote/\n",
    "│── __init__.py\n",
    "│── calculos.py\n",
    "│── mensagens.py\n",
    "\n",
    "# calculos.py\n",
    "def somar(a, b):\n",
    "    return a + b\n",
    "\n",
    "from meu_pacote import calculos\n",
    "\n",
    "print(calculos.somar(3, 5))\n"
   ]
  },
  {
   "cell_type": "code",
   "execution_count": 1,
   "metadata": {},
   "outputs": [
    {
     "name": "stdout",
     "output_type": "stream",
     "text": [
      "Raiz quadrada de 16: 4.0\n",
      "Seno de 90 graus: 1.0\n"
     ]
    }
   ],
   "source": [
    "import math\n",
    "\n",
    "raiz = math.sqrt(16)\n",
    "seno = math.sin(math.radians(90))\n",
    "\n",
    "print(\"Raiz quadrada de 16:\", raiz)\n",
    "print(\"Seno de 90 graus:\", seno)\n"
   ]
  },
  {
   "cell_type": "code",
   "execution_count": 2,
   "metadata": {},
   "outputs": [
    {
     "name": "stdout",
     "output_type": "stream",
     "text": [
      "Cosseno de 90 graus: 6.123233995736766e-17\n"
     ]
    }
   ],
   "source": [
    "#Exemplo do from\n",
    "from math import cos, radians\n",
    "\n",
    "cos = cos(radians(90))\n",
    "print(\"Cosseno de 90 graus:\", cos)"
   ]
  },
  {
   "cell_type": "code",
   "execution_count": null,
   "metadata": {},
   "outputs": [],
   "source": []
  }
 ],
 "metadata": {
  "kernelspec": {
   "display_name": "Python 3",
   "language": "python",
   "name": "python3"
  },
  "language_info": {
   "codemirror_mode": {
    "name": "ipython",
    "version": 3
   },
   "file_extension": ".py",
   "mimetype": "text/x-python",
   "name": "python",
   "nbconvert_exporter": "python",
   "pygments_lexer": "ipython3",
   "version": "3.13.1"
  }
 },
 "nbformat": 4,
 "nbformat_minor": 2
}
