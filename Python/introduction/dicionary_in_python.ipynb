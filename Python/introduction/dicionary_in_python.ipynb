{
 "cells": [
  {
   "cell_type": "code",
   "execution_count": null,
   "metadata": {},
   "outputs": [],
   "source": [
    "#Dicionários, sets e tuplas\n",
    "#Dicionários são estruturas de dados que armazenam pares de chave-valor\n",
    "dicionario = {\n",
    "    \"nome\": \"João\",\n",
    "    \"idade\": 25,\n",
    "    \"cidade\": \"São Paulo\"\n",
    "}\n",
    "\n",
    "estoque = {\n",
    "    \"Audi\": \"A4\",\n",
    "    \"BMW\": \"X1\",\n",
    "    \"Chevrolet\": \"Onix\",\n",
    "    \"Fiat\": \"Uno\"\n",
    "}\n",
    "\n",
    "#Acessando valores de um dicionário\n",
    "print(dicionario[\"nome\"])\n",
    "print(estoque[\"Chevrolet\"])\n",
    "#Adicionando um novo par chave-valor\n",
    "dicionario[\"sexo\"] = \"Masculino\"  \n",
    "estoque[\"Ford\"] = \"Mondeo\"\n",
    "\n",
    "#Removendo um par chave-valor\n",
    "del dicionario[\"cidade\"]\n",
    "del estoque[\"Fiat\"]\n",
    "print(estoque)"
   ]
  },
  {
   "cell_type": "code",
   "execution_count": null,
   "metadata": {},
   "outputs": [],
   "source": [
    "#Sets são coleções não ordenadas de elementos únicos\n",
    "#Ou seja, não pode haver repetição de elementos \n",
    "\n",
    "carros = {\"Fiesta\", \"Gol\", \"Palio\"}\n",
    "print(carros)\n",
    "\n",
    "#Adicionando um elemento ao set\n",
    "carros.add(\"Celta\")\n",
    "print(carros)\n",
    "\n",
    "#Removendo um elemento do set\n",
    "carros.remove(\"Gol\")    \n",
    "print(carros)"
   ]
  },
  {
   "cell_type": "code",
   "execution_count": null,
   "metadata": {},
   "outputs": [],
   "source": [
    "#Uma tupla, superficialmente é uma lista que não pode ser alterada\n",
    "tup_example = (1,2,3,4,5,6)\n",
    "print(tup_example)\n",
    "#Acessando um elemento da tupla\n",
    "print(tup_example[2])\n",
    "#Tuplas são imutáveis\n",
    "#tup_example[2] = 10\n",
    "#Adicionando um elemento a uma tupla\n",
    "tup_example = tup_example + (7,)\n",
    "print(tup_example)\n",
    "#Removendo um elemento de uma tupla\n",
    "tup_example = tup_example[:5] #Neste caso, remove-se o elemento no índice 5 e não o número 5.\n",
    "print(tup_example)  "
   ]
  }
 ],
 "metadata": {
  "language_info": {
   "name": "python"
  }
 },
 "nbformat": 4,
 "nbformat_minor": 2
}
