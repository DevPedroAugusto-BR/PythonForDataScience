{
 "cells": [
  {
   "cell_type": "code",
   "execution_count": 1,
   "metadata": {},
   "outputs": [
    {
     "name": "stdout",
     "output_type": "stream",
     "text": [
      "João\n",
      "Onix\n",
      "{'Audi': 'A4', 'BMW': 'X1', 'Chevrolet': 'Onix', 'Ford': 'Mondeo'}\n",
      "Mondeo\n"
     ]
    }
   ],
   "source": [
    "#Dicionários, sets e tuplas\n",
    "#Dicionários são estruturas de dados que armazenam pares de chave-valor\n",
    "dicionario = {\n",
    "    \"nome\": \"João\",\n",
    "    \"idade\": 25,\n",
    "    \"cidade\": \"São Paulo\"\n",
    "}\n",
    "\n",
    "estoque = {\n",
    "    \"Audi\": \"A4\",\n",
    "    \"BMW\": \"X1\",\n",
    "    \"Chevrolet\": \"Onix\",\n",
    "    \"Fiat\": \"Uno\"\n",
    "}\n",
    "\n",
    "#Acessando valores de um dicionário\n",
    "print(dicionario[\"nome\"])\n",
    "print(estoque[\"Chevrolet\"])\n",
    "#Adicionando um novo par chave-valor\n",
    "dicionario[\"sexo\"] = \"Masculino\"  \n",
    "estoque[\"Ford\"] = \"Mondeo\"\n",
    "\n",
    "#Removendo um par chave-valor\n",
    "del dicionario[\"cidade\"]\n",
    "del estoque[\"Fiat\"]\n",
    "print(estoque)\n",
    "print(estoque[\"Ford\"])"
   ]
  },
  {
   "cell_type": "code",
   "execution_count": 2,
   "metadata": {},
   "outputs": [
    {
     "name": "stdout",
     "output_type": "stream",
     "text": [
      "True\n",
      "Mondeo\n"
     ]
    }
   ],
   "source": [
    "estoque.keys() #Retorna as chaves do dicionário\n",
    "estoque.values() #Retorna os valores do dicionário\n",
    "\n",
    "print('Ford' in estoque) #Verifica se a chave 'Ford' existe no dicionário\n",
    "\n",
    "#Busca de um valor em um dicionário\n",
    "print(estoque.get('Ford', 'Não encontrado')) #Retorna o valor associado à chave 'Ford'"
   ]
  },
  {
   "cell_type": "code",
   "execution_count": 4,
   "metadata": {},
   "outputs": [
    {
     "name": "stdout",
     "output_type": "stream",
     "text": [
      "{'Palio', 'Fiesta', 'Gol'}\n",
      "{'Palio', 'Fiesta', 'Gol', 'Celta'}\n",
      "{'Palio', 'Fiesta', 'Celta'}\n",
      "True\n"
     ]
    }
   ],
   "source": [
    "#Sets são coleções não ordenadas de elementos únicos\n",
    "#Ou seja, não pode haver repetição de elementos \n",
    "\n",
    "carros = {\"Fiesta\", \"Gol\", \"Palio\"}\n",
    "print(carros)\n",
    "\n",
    "#Adicionando um elemento ao set\n",
    "carros.add(\"Celta\")\n",
    "print(carros)\n",
    "\n",
    "#Removendo um elemento do set\n",
    "carros.remove(\"Gol\")    \n",
    "print(carros)\n",
    "\n",
    "#Verificando se um elemento está no set\n",
    "print(\"Palio\" in carros) #Retorna True se \"Palio\" estiver no set, caso contrário retorna False  "
   ]
  },
  {
   "cell_type": "code",
   "execution_count": 5,
   "metadata": {},
   "outputs": [
    {
     "name": "stdout",
     "output_type": "stream",
     "text": [
      "(1, 2, 3, 4, 5, 6)\n",
      "3\n",
      "(1, 2, 3, 4, 5, 6, 7)\n",
      "(1, 2, 3, 4, 5)\n"
     ]
    }
   ],
   "source": [
    "#Uma tupla, superficialmente é uma lista que não pode ser alterada\n",
    "tup_example = (1,2,3,4,5,6)\n",
    "print(tup_example)\n",
    "#Acessando um elemento da tupla\n",
    "print(tup_example[2])\n",
    "#Tuplas são imutáveis\n",
    "#tup_example[2] = 10\n",
    "#Adicionando um elemento a uma tupla\n",
    "tup_example = tup_example + (7,)\n",
    "print(tup_example)\n",
    "#Removendo um elemento de uma tupla\n",
    "tup_example = tup_example[:5] #Neste caso, remove-se o elemento no índice 5 e não o número 5.\n",
    "print(tup_example)  "
   ]
  },
  {
   "cell_type": "code",
   "execution_count": 7,
   "metadata": {},
   "outputs": [
    {
     "name": "stdout",
     "output_type": "stream",
     "text": [
      "<class 'dict'>\n"
     ]
    }
   ],
   "source": [
    "#Dicionários que recebem uma tupla em cada posição\n",
    "dicionario_tupla = {(2006, 2003, 2010): \"Palio\", (2005, 2002, 2011): \"Civic\", (2004, 2001, 2012): \"Corolla\"}\n",
    "print(type(dicionario_tupla)) "
   ]
  },
  {
   "cell_type": "code",
   "execution_count": null,
   "metadata": {},
   "outputs": [],
   "source": []
  }
 ],
 "metadata": {
  "kernelspec": {
   "display_name": "Python 3",
   "language": "python",
   "name": "python3"
  },
  "language_info": {
   "codemirror_mode": {
    "name": "ipython",
    "version": 3
   },
   "file_extension": ".py",
   "mimetype": "text/x-python",
   "name": "python",
   "nbconvert_exporter": "python",
   "pygments_lexer": "ipython3",
   "version": "3.13.1"
  }
 },
 "nbformat": 4,
 "nbformat_minor": 2
}
