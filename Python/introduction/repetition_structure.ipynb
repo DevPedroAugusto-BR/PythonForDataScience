{
 "cells": [
  {
   "cell_type": "code",
   "execution_count": null,
   "metadata": {},
   "outputs": [],
   "source": [
    "''' Fazendo o mesmo exemplo com estruturas de repetição diferentes\n",
    "While\n",
    "For\n",
    "'''\n",
    "\n",
    "number_functionary = int(input('Digite o número de funcionários: '))\n",
    "\n",
    "count = 1\n",
    "while count < number_functionary:\n",
    "    salary_functionary = float(input('Digite o salário de funcionários: '))\n",
    "    count += 1\n",
    "\n",
    "for i in range(number_functionary):\n",
    "    salary_functionary = float(input('Digite o salário de funcionários: ')) "
   ]
  },
  {
   "cell_type": "code",
   "execution_count": null,
   "metadata": {},
   "outputs": [],
   "source": []
  }
 ],
 "metadata": {
  "kernelspec": {
   "display_name": "Python 3",
   "language": "python",
   "name": "python3"
  },
  "language_info": {
   "codemirror_mode": {
    "name": "ipython",
    "version": 3
   },
   "file_extension": ".py",
   "mimetype": "text/x-python",
   "name": "python",
   "nbconvert_exporter": "python",
   "pygments_lexer": "ipython3",
   "version": "3.13.1"
  }
 },
 "nbformat": 4,
 "nbformat_minor": 2
}
