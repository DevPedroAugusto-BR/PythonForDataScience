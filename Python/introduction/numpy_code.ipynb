{
 "cells": [
  {
   "cell_type": "code",
   "execution_count": 1,
   "metadata": {},
   "outputs": [],
   "source": [
    "import numpy as np"
   ]
  },
  {
   "cell_type": "code",
   "execution_count": null,
   "metadata": {},
   "outputs": [],
   "source": [
    "mt = np.array([1,2,3,4,5])\n",
    "print(type(mt))\n",
    "\n",
    "mtfloat = np.array([1,2,3], dtype=np.float64)\n",
    "print(type(mtfloat))\n",
    "\n",
    "mtInt = np.array([1,2,3], dtype=np.int64)\n",
    "print(type(mtInt))\n",
    "\n",
    "mtNewInt = mt.astype(np.int64)\n",
    "print(type(mtNewInt))"
   ]
  },
  {
   "cell_type": "code",
   "execution_count": null,
   "metadata": {},
   "outputs": [
    {
     "name": "stdout",
     "output_type": "stream",
     "text": [
      "[0.81813403 0.25805426 0.71009425 0.70065138 0.66574597]\n",
      "[-1.09487434 -0.49639261  0.55719069  0.35154955 -1.23488213]\n",
      "[[9.47256142 6.1344941  7.7355208  7.21102689]\n",
      " [6.41730345 6.73915739 9.93279979 8.87569107]\n",
      " [7.01199053 7.68699052 1.7214248  1.24047183]]\n"
     ]
    }
   ],
   "source": [
    "#Gerando valores aleatórios\n",
    "ale = np.random.rand(5)\n",
    "print(ale)\n",
    "\n",
    "dis_normal = np.random.randn(5)\n",
    "print(dis_normal)\n",
    "\n",
    "#Valores aleatporio numa matriz 3x4\n",
    "matriz_ale = (10*np.random.random((3,4)))\n",
    "print(matriz_ale)"
   ]
  },
  {
   "cell_type": "code",
   "execution_count": 11,
   "metadata": {},
   "outputs": [
    {
     "name": "stdout",
     "output_type": "stream",
     "text": [
      "[0.51182162 0.9504637  0.14415961]\n",
      "[[8 9 2 3]\n",
      " [8 4 2 8]\n",
      " [2 4 6 5]]\n"
     ]
    }
   ],
   "source": [
    "#Usando números aleatórios com semente\n",
    "gnr = np.random.default_rng(1)\n",
    "ale5 = gnr.random(3)\n",
    "print(ale5)\n",
    "\n",
    "ale6 = gnr.integers(10, size = (3,4))\n",
    "print(ale6)"
   ]
  },
  {
   "cell_type": "code",
   "execution_count": 13,
   "metadata": {},
   "outputs": [
    {
     "name": "stdout",
     "output_type": "stream",
     "text": [
      "[1 1 1 2 2 2 3 3 3 3 4 4 4 4 5 5]\n",
      "[1 2 3 4 5]\n"
     ]
    }
   ],
   "source": [
    "j = np.array([1,1,1,2,2,2,3,3,3,3,4,4,4,4,5,5])\n",
    "print(j)\n",
    "j = np.unique(j)\n",
    "print(j)"
   ]
  },
  {
   "cell_type": "code",
   "execution_count": 15,
   "metadata": {},
   "outputs": [
    {
     "name": "stdout",
     "output_type": "stream",
     "text": [
      "[[1 2 3]\n",
      " [4 5 6]\n",
      " [7 8 9]]\n",
      "[[1.         1.41421356 1.73205081]\n",
      " [2.         2.23606798 2.44948974]\n",
      " [2.64575131 2.82842712 3.        ]]\n"
     ]
    }
   ],
   "source": [
    "k = np.array([[1,2,3], [4,5,6], [7,8,9]])\n",
    "print(k)\n",
    "k = np.sqrt(k)\n",
    "print(k)"
   ]
  },
  {
   "cell_type": "code",
   "execution_count": null,
   "metadata": {},
   "outputs": [
    {
     "name": "stdout",
     "output_type": "stream",
     "text": [
      "[1.         1.41421356 1.73205081]\n",
      "[1.         2.         2.64575131]\n"
     ]
    }
   ],
   "source": [
    "#extração de elementos \n",
    "k_linha_1 = k[0,:]\n",
    "print(k_linha_1)\n",
    "\n",
    "k_coluna_1 = k[:,0]\n",
    "print(k_coluna_1)       "
   ]
  },
  {
   "cell_type": "code",
   "execution_count": 18,
   "metadata": {},
   "outputs": [
    {
     "name": "stdout",
     "output_type": "stream",
     "text": [
      "[[ 0.98382449  0.91824815 -1.50156347  0.48597448]\n",
      " [-0.06247607  1.3046136  -1.83255227 -0.67379562]\n",
      " [ 0.66157274  1.05440314 -0.46207701 -1.0544262 ]\n",
      " [ 0.58531231 -0.83800754  0.21998246  0.07596675]]\n",
      "[[False False False False]\n",
      " [False  True False False]\n",
      " [False  True False False]\n",
      " [False False False False]]\n",
      "[[0 0 0 0]\n",
      " [0 1 0 0]\n",
      " [0 1 0 0]\n",
      " [0 0 0 0]]\n"
     ]
    }
   ],
   "source": [
    "#O exemplo abaixo é uma matriz 4x4\n",
    "v = np.random.randn(4,4)\n",
    "print(v)\n",
    "\n",
    "x = (v > 1)\n",
    "print(x)\n",
    "\n",
    "z = np.where(v > 1, 1, 0)\n",
    "print(z)"
   ]
  },
  {
   "cell_type": "code",
   "execution_count": null,
   "metadata": {},
   "outputs": [],
   "source": []
  }
 ],
 "metadata": {
  "kernelspec": {
   "display_name": "Python 3",
   "language": "python",
   "name": "python3"
  },
  "language_info": {
   "codemirror_mode": {
    "name": "ipython",
    "version": 3
   },
   "file_extension": ".py",
   "mimetype": "text/x-python",
   "name": "python",
   "nbconvert_exporter": "python",
   "pygments_lexer": "ipython3",
   "version": "3.13.1"
  }
 },
 "nbformat": 4,
 "nbformat_minor": 2
}
