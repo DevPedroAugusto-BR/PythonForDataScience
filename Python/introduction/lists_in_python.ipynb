{
 "cells": [
  {
   "cell_type": "code",
   "execution_count": null,
   "metadata": {},
   "outputs": [],
   "source": [
    "#As listas em  python são como vetores. \n",
    "#Podem possuir diferentes tipos. Não necessariamente apenas um!\n",
    "#Exemplo abaixo"
   ]
  },
  {
   "cell_type": "code",
   "execution_count": 4,
   "metadata": {},
   "outputs": [
    {
     "name": "stdout",
     "output_type": "stream",
     "text": [
      "[0, 1, 2, 3, 4, 5, 6, 7, 8, 9]\n",
      "Tamanho da lista:  10\n"
     ]
    }
   ],
   "source": [
    "lista1 = list(range(0,10)) # Converte o range em uma lista\n",
    "print(lista1) #imprime a lista de 0 a 9\n",
    "tamLista = len(lista1) #tamanho da lista\n",
    "\n",
    "print(\"Tamanho da lista: \", tamLista) #imprime o tamanho da lista"
   ]
  },
  {
   "cell_type": "code",
   "execution_count": null,
   "metadata": {},
   "outputs": [],
   "source": []
  }
 ],
 "metadata": {
  "kernelspec": {
   "display_name": "Python 3",
   "language": "python",
   "name": "python3"
  },
  "language_info": {
   "codemirror_mode": {
    "name": "ipython",
    "version": 3
   },
   "file_extension": ".py",
   "mimetype": "text/x-python",
   "name": "python",
   "nbconvert_exporter": "python",
   "pygments_lexer": "ipython3",
   "version": "3.13.1"
  }
 },
 "nbformat": 4,
 "nbformat_minor": 2
}
